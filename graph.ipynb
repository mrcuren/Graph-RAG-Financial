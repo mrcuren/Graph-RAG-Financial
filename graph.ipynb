{
 "cells": [
  {
   "cell_type": "code",
   "execution_count": 1,
   "metadata": {},
   "outputs": [
    {
     "data": {
      "text/plain": [
       "True"
      ]
     },
     "execution_count": 1,
     "metadata": {},
     "output_type": "execute_result"
    }
   ],
   "source": [
    "import os\n",
    "from dotenv import load_dotenv\n",
    "load_dotenv()"
   ]
  },
  {
   "cell_type": "code",
   "execution_count": 2,
   "metadata": {},
   "outputs": [],
   "source": [
    "from camel.models import ModelFactory\n",
    "from camel.types import ModelPlatformType\n",
    "from camel.loaders import UnstructuredIO\n",
    "from camel.storages import Neo4jGraph\n",
    "from camel.embeddings import SentenceTransformerEncoder\n",
    "from camel.agents import ChatAgent, KnowledgeGraphAgent\n",
    "from camel.messages import BaseMessage\n",
    "from camel.models import ModelFactory   \n",
    "from camel.types import ModelPlatformType\n",
    "from camel.configs import OllamaConfig, GeminiConfig, ChatGPTConfig\n",
    "from camel.loaders import UnstructuredIO\n",
    "from camel.storages import Neo4jGraph\n",
    "from camel.agents import ChatAgent, KnowledgeGraphAgent\n",
    "from camel.messages import BaseMessage"
   ]
  },
  {
   "cell_type": "code",
   "execution_count": 3,
   "metadata": {},
   "outputs": [],
   "source": [
    "GEMINI_API_KEY = os.getenv(\"GEMINI_API_KEY\")\n",
    "NEO4J_URI = os.getenv(\"NEO4J_URI\")\n",
    "NEO4J_USERNAME = os.getenv(\"NEO4J_USERNAME\")\n",
    "NEO4J_PASSWORD = os.getenv(\"NEO4J_PASSWORD\")\n",
    "AURA_INSTANCEID = os.getenv(\"AURA_INSTANCEID\")\n",
    "AURA_INSTANCENAME = os.getenv(\"AURA_INSTANCENAME\")\n",
    "OPENAI_API_KEY = os.getenv(\"OPENAI_API_KEY\")"
   ]
  },
  {
   "cell_type": "code",
   "execution_count": 4,
   "metadata": {},
   "outputs": [],
   "source": [
    "n4j = Neo4jGraph(\n",
    "    url=NEO4J_URI,\n",
    "    username=NEO4J_USERNAME,\n",
    "    password=NEO4J_PASSWORD,\n",
    ")"
   ]
  },
  {
   "cell_type": "code",
   "execution_count": 52,
   "metadata": {},
   "outputs": [],
   "source": [
    "#gemini_llm = ModelFactory.create(model_platform=ModelPlatformType.GEMINI,model_type=\"gemini-1.5-pro\", model_config_dict=GeminiConfig(temperature=0.2).as_dict(),)"
   ]
  },
  {
   "cell_type": "code",
   "execution_count": 5,
   "metadata": {},
   "outputs": [],
   "source": [
    "openai_llm = ModelFactory.create(model_platform=ModelPlatformType.OPENAI,model_type=\"gpt-4o-mini\", model_config_dict=ChatGPTConfig(temperature=0.2).as_dict())"
   ]
  },
  {
   "cell_type": "code",
   "execution_count": null,
   "metadata": {},
   "outputs": [],
   "source": [
    "# mistral = ModelFactory.create(model_platform=ModelPlatformType.OLLAMA,model_type=\"mistral\",model_config_dict=OllamaConfig(temperature=0.2).as_dict(),)\n"
   ]
  },
  {
   "cell_type": "code",
   "execution_count": 7,
   "metadata": {},
   "outputs": [],
   "source": [
    "uio = UnstructuredIO()\n",
    "kg_agent = KnowledgeGraphAgent(model=openai_llm)"
   ]
  },
  {
   "cell_type": "code",
   "execution_count": null,
   "metadata": {},
   "outputs": [],
   "source": [
    "embedding_instance = SentenceTransformerEncoder(model_name='all-mpnet-base-v2')  "
   ]
  },
  {
   "cell_type": "code",
   "execution_count": 9,
   "metadata": {},
   "outputs": [],
   "source": [
    "from camel.storages.vectordb_storages import QdrantStorage\n",
    "\n",
    "vector_storage = QdrantStorage(\n",
    "    vector_dim=embedding_instance.get_output_dim(),\n",
    "    collection_name=\"my first collection\",\n",
    "    path=\"storage_customized_run\",\n",
    ")"
   ]
  },
  {
   "cell_type": "code",
   "execution_count": 10,
   "metadata": {},
   "outputs": [],
   "source": [
    "from camel.retrievers import VectorRetriever\n",
    "\n",
    "vector_retriever = VectorRetriever(embedding_model=embedding_instance,\n",
    "                                   storage=vector_storage)"
   ]
  },
  {
   "cell_type": "code",
   "execution_count": 32,
   "metadata": {},
   "outputs": [],
   "source": [
    "vector_retriever.process(\n",
    "    content=\"./data/yk-faaliyet-raporu-3c2024-tr.md\", vector_storage= vector_storage, max_characters=200\n",
    ")"
   ]
  },
  {
   "cell_type": "code",
   "execution_count": 34,
   "metadata": {},
   "outputs": [],
   "source": [
    "query= \"2025 yılında Türk Hava Yollarında büyüme bekleniyor mu?\""
   ]
  },
  {
   "cell_type": "code",
   "execution_count": 33,
   "metadata": {},
   "outputs": [
    {
     "data": {
      "text/plain": [
       "[{'similarity score': '0.9283719308109077',\n",
       "  'content path': '/home/mericuren/Desktop/graph_Rag/data/anadoluyatırım.md',\n",
       "  'metadata': {'filetype': 'text/markdown', 'languages': ['tur']},\n",
       "  'extra_info': {},\n",
       "  'text': '2025 Yılında Neler Bekliyoruz?\\n\\nTürkiye Ekonomisi'},\n",
       " {'similarity score': '0.9086349320250523',\n",
       "  'content path': '/home/mericuren/Desktop/graph_Rag/data/tacirler.md',\n",
       "  'metadata': {'filetype': 'text/markdown', 'languages': ['tur']},\n",
       "  'extra_info': {},\n",
       "  'text': '2025 yılı, Türkiye otomotiv sektörünün elektrikli araç üretimi ve ihracatında önemli bir atılım yapmasını bekliyoruz … 2025 yılında Türkiye, otomotiv ihracatında %8 ila %10 arasında bir büyüme'},\n",
       " {'similarity score': '0.9074329711280298',\n",
       "  'content path': '/home/mericuren/Desktop/graph_Rag/data/burgan.md',\n",
       "  'metadata': {'filetype': 'text/markdown', 'languages': ['tur']},\n",
       "  'extra_info': {},\n",
       "  'text': \"\\uf0d8 2025 yılında Türk Lirasında reel değerlenme beklentilerimiz ve en büyük ihracat pazarımız olan Avrupa'da zayıf talep ve artan rekabetin etkisiyle, şirket bazlı ayrışmaları göz önünde bulundurarak\"},\n",
       " {'similarity score': '0.8974741714673591',\n",
       "  'content path': '/home/mericuren/Desktop/graph_Rag/data/garanti.md',\n",
       "  'metadata': {'filetype': 'text/markdown',\n",
       "   'languages': ['tur'],\n",
       "   'is_continuation': True},\n",
       "  'extra_info': {},\n",
       "  'text': \"dolayısıyla enflasyon üzerinde büyüme kaydetmesini bekliyoruz. Türk Hava Yolları 'nda turizmde yakalanan olumlu ivmenin 2025'te devam edeceğini, yolcu sayısının yıllık olarak artacağını ve yolcu\"}]"
      ]
     },
     "execution_count": 33,
     "metadata": {},
     "output_type": "execute_result"
    }
   ],
   "source": [
    "retrieved_info = vector_retriever.query(\n",
    "    query=query,\n",
    "    top_k=4\n",
    ")\n",
    "retrieved_info"
   ]
  },
  {
   "cell_type": "code",
   "execution_count": 42,
   "metadata": {},
   "outputs": [
    {
     "data": {
      "text/plain": [
       "[<unstructured.documents.elements.CompositeElement at 0x73bb0253d2e0>,\n",
       " <unstructured.documents.elements.TableChunk at 0x73bb025ad5b0>,\n",
       " <unstructured.documents.elements.TableChunk at 0x73bb0807a9f0>,\n",
       " <unstructured.documents.elements.TableChunk at 0x73bb0807a450>,\n",
       " <unstructured.documents.elements.TableChunk at 0x73bb025cef30>,\n",
       " <unstructured.documents.elements.CompositeElement at 0x73bb025ac950>,\n",
       " <unstructured.documents.elements.CompositeElement at 0x73bb025af8c0>,\n",
       " <unstructured.documents.elements.CompositeElement at 0x73bb016638f0>,\n",
       " <unstructured.documents.elements.CompositeElement at 0x73bb025b1400>,\n",
       " <unstructured.documents.elements.CompositeElement at 0x73bb025b3ef0>,\n",
       " <unstructured.documents.elements.CompositeElement at 0x73bb017e4e90>,\n",
       " <unstructured.documents.elements.CompositeElement at 0x73bb0180f6e0>,\n",
       " <unstructured.documents.elements.CompositeElement at 0x73bb025d5bb0>,\n",
       " <unstructured.documents.elements.CompositeElement at 0x73bb025d5820>,\n",
       " <unstructured.documents.elements.CompositeElement at 0x73bb025d5ee0>,\n",
       " <unstructured.documents.elements.TableChunk at 0x73bb01b58ad0>,\n",
       " <unstructured.documents.elements.CompositeElement at 0x73bb01972e70>,\n",
       " <unstructured.documents.elements.CompositeElement at 0x73bb016644d0>,\n",
       " <unstructured.documents.elements.CompositeElement at 0x73bb01664560>,\n",
       " <unstructured.documents.elements.CompositeElement at 0x73bb0165ade0>,\n",
       " <unstructured.documents.elements.CompositeElement at 0x73bb01659790>,\n",
       " <unstructured.documents.elements.TableChunk at 0x73bb025dbf80>,\n",
       " <unstructured.documents.elements.TableChunk at 0x73bb025d65a0>,\n",
       " <unstructured.documents.elements.CompositeElement at 0x73bb016687a0>,\n",
       " <unstructured.documents.elements.CompositeElement at 0x73bb025d69c0>,\n",
       " <unstructured.documents.elements.CompositeElement at 0x73bb025d6150>,\n",
       " <unstructured.documents.elements.CompositeElement at 0x73bb0166c0e0>,\n",
       " <unstructured.documents.elements.CompositeElement at 0x73bb0166c1d0>,\n",
       " <unstructured.documents.elements.CompositeElement at 0x73bb0166c290>,\n",
       " <unstructured.documents.elements.CompositeElement at 0x73bb0166c2f0>,\n",
       " <unstructured.documents.elements.CompositeElement at 0x73bb0166c410>,\n",
       " <unstructured.documents.elements.CompositeElement at 0x73bb0166c470>,\n",
       " <unstructured.documents.elements.CompositeElement at 0x73bb0166c440>,\n",
       " <unstructured.documents.elements.CompositeElement at 0x73bb0166c530>,\n",
       " <unstructured.documents.elements.CompositeElement at 0x73bb0166c5c0>,\n",
       " <unstructured.documents.elements.CompositeElement at 0x73bb0166c560>,\n",
       " <unstructured.documents.elements.CompositeElement at 0x73bb0166c680>,\n",
       " <unstructured.documents.elements.CompositeElement at 0x73bb0166c770>,\n",
       " <unstructured.documents.elements.CompositeElement at 0x73bb0166c860>,\n",
       " <unstructured.documents.elements.CompositeElement at 0x73bb0166c890>,\n",
       " <unstructured.documents.elements.CompositeElement at 0x73bb0166c9b0>,\n",
       " <unstructured.documents.elements.CompositeElement at 0x73bb0166ca40>,\n",
       " <unstructured.documents.elements.CompositeElement at 0x73bb0166c950>,\n",
       " <unstructured.documents.elements.CompositeElement at 0x73bb0166cb60>,\n",
       " <unstructured.documents.elements.CompositeElement at 0x73bb0166cbf0>,\n",
       " <unstructured.documents.elements.CompositeElement at 0x73bb0166cc80>,\n",
       " <unstructured.documents.elements.CompositeElement at 0x73bb0166cce0>,\n",
       " <unstructured.documents.elements.CompositeElement at 0x73bb0166cd10>,\n",
       " <unstructured.documents.elements.TableChunk at 0x73bb0166ce90>,\n",
       " <unstructured.documents.elements.TableChunk at 0x73bb017de270>,\n",
       " <unstructured.documents.elements.CompositeElement at 0x73bb0166ce60>,\n",
       " <unstructured.documents.elements.CompositeElement at 0x73bb0166cd40>,\n",
       " <unstructured.documents.elements.CompositeElement at 0x73bb0166d100>,\n",
       " <unstructured.documents.elements.CompositeElement at 0x73bb0166d280>,\n",
       " <unstructured.documents.elements.CompositeElement at 0x73bb0166d070>,\n",
       " <unstructured.documents.elements.CompositeElement at 0x73bb0166d190>,\n",
       " <unstructured.documents.elements.CompositeElement at 0x73bb0166d310>,\n",
       " <unstructured.documents.elements.CompositeElement at 0x73bb0166d460>,\n",
       " <unstructured.documents.elements.CompositeElement at 0x73bb0166d520>,\n",
       " <unstructured.documents.elements.CompositeElement at 0x73bb0166d490>,\n",
       " <unstructured.documents.elements.CompositeElement at 0x73bb0166d580>,\n",
       " <unstructured.documents.elements.CompositeElement at 0x73bb0166d640>,\n",
       " <unstructured.documents.elements.CompositeElement at 0x73bb0166d6a0>,\n",
       " <unstructured.documents.elements.CompositeElement at 0x73bb0166d7c0>,\n",
       " <unstructured.documents.elements.CompositeElement at 0x73bb0166d7f0>,\n",
       " <unstructured.documents.elements.CompositeElement at 0x73bb0166d8b0>,\n",
       " <unstructured.documents.elements.CompositeElement at 0x73bb0166d880>,\n",
       " <unstructured.documents.elements.CompositeElement at 0x73bb0166d730>,\n",
       " <unstructured.documents.elements.CompositeElement at 0x73bb0166ce30>,\n",
       " <unstructured.documents.elements.CompositeElement at 0x73bb0166da00>,\n",
       " <unstructured.documents.elements.CompositeElement at 0x73bb0166da90>,\n",
       " <unstructured.documents.elements.CompositeElement at 0x73bb0166d9d0>,\n",
       " <unstructured.documents.elements.CompositeElement at 0x73bb0166db80>,\n",
       " <unstructured.documents.elements.CompositeElement at 0x73bb0166db20>,\n",
       " <unstructured.documents.elements.TableChunk at 0x73bb0166df70>,\n",
       " <unstructured.documents.elements.TableChunk at 0x73bb0166e090>,\n",
       " <unstructured.documents.elements.CompositeElement at 0x73bb0166ddf0>,\n",
       " <unstructured.documents.elements.TableChunk at 0x73bb0166dfd0>,\n",
       " <unstructured.documents.elements.CompositeElement at 0x73bb0166dc40>,\n",
       " <unstructured.documents.elements.CompositeElement at 0x73bb0166dbb0>,\n",
       " <unstructured.documents.elements.CompositeElement at 0x73bb0166db50>,\n",
       " <unstructured.documents.elements.CompositeElement at 0x73bb0166df10>,\n",
       " <unstructured.documents.elements.CompositeElement at 0x73bb0166e2a0>,\n",
       " <unstructured.documents.elements.CompositeElement at 0x73bb0166e3c0>,\n",
       " <unstructured.documents.elements.CompositeElement at 0x73bb0166dbe0>,\n",
       " <unstructured.documents.elements.CompositeElement at 0x73bb0166e450>,\n",
       " <unstructured.documents.elements.CompositeElement at 0x73bb0166e330>,\n",
       " <unstructured.documents.elements.CompositeElement at 0x73bb0166e5a0>,\n",
       " <unstructured.documents.elements.CompositeElement at 0x73bb0166e570>,\n",
       " <unstructured.documents.elements.CompositeElement at 0x73bb0166e6c0>,\n",
       " <unstructured.documents.elements.CompositeElement at 0x73bb0166e690>,\n",
       " <unstructured.documents.elements.CompositeElement at 0x73bb0166e6f0>,\n",
       " <unstructured.documents.elements.CompositeElement at 0x73bb0166e8a0>,\n",
       " <unstructured.documents.elements.CompositeElement at 0x73bb0166e8d0>,\n",
       " <unstructured.documents.elements.CompositeElement at 0x73bb0166e930>,\n",
       " <unstructured.documents.elements.CompositeElement at 0x73bb0166e990>,\n",
       " <unstructured.documents.elements.CompositeElement at 0x73bb0166ea20>,\n",
       " <unstructured.documents.elements.CompositeElement at 0x73bb0166eae0>,\n",
       " <unstructured.documents.elements.CompositeElement at 0x73bb0166eb40>,\n",
       " <unstructured.documents.elements.CompositeElement at 0x73bb0166ebd0>,\n",
       " <unstructured.documents.elements.CompositeElement at 0x73bb0166e900>,\n",
       " <unstructured.documents.elements.CompositeElement at 0x73bb0166ed80>,\n",
       " <unstructured.documents.elements.CompositeElement at 0x73bb0166ed50>,\n",
       " <unstructured.documents.elements.CompositeElement at 0x73bb0166ee10>,\n",
       " <unstructured.documents.elements.CompositeElement at 0x73bb0166ee70>,\n",
       " <unstructured.documents.elements.CompositeElement at 0x73bb0166eed0>,\n",
       " <unstructured.documents.elements.CompositeElement at 0x73bb0166f020>,\n",
       " <unstructured.documents.elements.CompositeElement at 0x73bb0166ecc0>,\n",
       " <unstructured.documents.elements.CompositeElement at 0x73bb0166f0b0>,\n",
       " <unstructured.documents.elements.TableChunk at 0x73bb0166f440>,\n",
       " <unstructured.documents.elements.TableChunk at 0x73bb0166f4d0>,\n",
       " <unstructured.documents.elements.CompositeElement at 0x73bb0166ef30>,\n",
       " <unstructured.documents.elements.TableChunk at 0x73bb0166f500>,\n",
       " <unstructured.documents.elements.CompositeElement at 0x73bb0166f140>,\n",
       " <unstructured.documents.elements.CompositeElement at 0x73bb0166f200>,\n",
       " <unstructured.documents.elements.CompositeElement at 0x73bb0166f170>,\n",
       " <unstructured.documents.elements.CompositeElement at 0x73bb0166f6b0>,\n",
       " <unstructured.documents.elements.TableChunk at 0x73bb0166f980>,\n",
       " <unstructured.documents.elements.TableChunk at 0x73bb0166fad0>,\n",
       " <unstructured.documents.elements.CompositeElement at 0x73bb0166f1d0>,\n",
       " <unstructured.documents.elements.CompositeElement at 0x73bb0166f830>,\n",
       " <unstructured.documents.elements.CompositeElement at 0x73bb0166f320>,\n",
       " <unstructured.documents.elements.CompositeElement at 0x73bb0166fa70>,\n",
       " <unstructured.documents.elements.CompositeElement at 0x73bb0166fb30>,\n",
       " <unstructured.documents.elements.CompositeElement at 0x73bb0166fb60>,\n",
       " <unstructured.documents.elements.CompositeElement at 0x73bb0166fcb0>,\n",
       " <unstructured.documents.elements.CompositeElement at 0x73bb0166f890>,\n",
       " <unstructured.documents.elements.CompositeElement at 0x73bb0166fe00>,\n",
       " <unstructured.documents.elements.CompositeElement at 0x73bb0166fda0>,\n",
       " <unstructured.documents.elements.CompositeElement at 0x73bb0166fd70>,\n",
       " <unstructured.documents.elements.CompositeElement at 0x73bb0166ffe0>,\n",
       " <unstructured.documents.elements.CompositeElement at 0x73bb0166f2f0>,\n",
       " <unstructured.documents.elements.TableChunk at 0x73bb0166f950>,\n",
       " <unstructured.documents.elements.TableChunk at 0x73bb016f0350>,\n",
       " <unstructured.documents.elements.CompositeElement at 0x73bb0166fef0>,\n",
       " <unstructured.documents.elements.CompositeElement at 0x73bb016f0320>,\n",
       " <unstructured.documents.elements.CompositeElement at 0x73bb016f01a0>,\n",
       " <unstructured.documents.elements.CompositeElement at 0x73bb016f02f0>,\n",
       " <unstructured.documents.elements.CompositeElement at 0x73bb016f0410>,\n",
       " <unstructured.documents.elements.CompositeElement at 0x73bb016f0440>,\n",
       " <unstructured.documents.elements.CompositeElement at 0x73bb016f05f0>,\n",
       " <unstructured.documents.elements.CompositeElement at 0x73bb016f0650>,\n",
       " <unstructured.documents.elements.CompositeElement at 0x73bb016f0560>,\n",
       " <unstructured.documents.elements.CompositeElement at 0x73bb016f0740>,\n",
       " <unstructured.documents.elements.CompositeElement at 0x73bb016f06e0>,\n",
       " <unstructured.documents.elements.CompositeElement at 0x73bb016f07d0>,\n",
       " <unstructured.documents.elements.CompositeElement at 0x73bb016f0890>,\n",
       " <unstructured.documents.elements.CompositeElement at 0x73bb016f0950>,\n",
       " <unstructured.documents.elements.CompositeElement at 0x73bb016f09b0>,\n",
       " <unstructured.documents.elements.CompositeElement at 0x73bb016f01d0>,\n",
       " <unstructured.documents.elements.CompositeElement at 0x73bb32a18e30>]"
      ]
     },
     "execution_count": 42,
     "metadata": {},
     "output_type": "execute_result"
    }
   ],
   "source": [
    "elements = uio.parse_file_or_url(\n",
    "    input_path=\"/home/mericuren/Desktop/graph_Rag/data/yk-faaliyet-raporu-3c2024-tr.md\"\n",
    ")\n",
    "chunk_elements = uio.chunk_elements(\n",
    "    chunk_type=\"chunk_by_title\", elements=elements\n",
    ")\n",
    "chunk_elements"
   ]
  },
  {
   "cell_type": "code",
   "execution_count": 43,
   "metadata": {},
   "outputs": [],
   "source": [
    "graph_elements = []\n",
    "for chunk in chunk_elements:\n",
    "    graph_element = kg_agent.run(chunk, parse_graph_elements=True)\n",
    "    n4j.add_graph_elements(graph_elements=[graph_element])\n",
    "    graph_elements.append(graph_element)"
   ]
  },
  {
   "cell_type": "code",
   "execution_count": 32,
   "metadata": {},
   "outputs": [
    {
     "data": {
      "text/plain": [
       "471"
      ]
     },
     "execution_count": 32,
     "metadata": {},
     "output_type": "execute_result"
    }
   ],
   "source": [
    "len(graph_elements)"
   ]
  },
  {
   "cell_type": "code",
   "execution_count": 35,
   "metadata": {},
   "outputs": [],
   "source": [
    "query_element = uio.create_element_from_text(\n",
    "    text=query, element_id=\"1\"\n",
    ")\n",
    "\n",
    "ans_element = kg_agent.run(query_element, parse_graph_elements=True)"
   ]
  },
  {
   "cell_type": "code",
   "execution_count": 36,
   "metadata": {},
   "outputs": [
    {
     "name": "stdout",
     "output_type": "stream",
     "text": [
      "['Node Türk Hava Yolları (label: Organization) has relationship OPERATESIN with Node Havacılık (label: Sector)', 'Node Türk Hava Yolları (label: Organization) has relationship OPERATESIN with Node uluslararası pazarlar (label: Market)', 'Node Türk Hava Yolları (label: Organization) has relationship IMPLEMENTS with Node dijital dönüşüm stratejileri (label: Strategy)', 'Node Türk Hava Yolları (label: Organization) has relationship INCREASES with Node kargo operasyonları (label: Activity)', 'Node Türk Hava Yolları (label: Organization) has relationship INVOLVEDIN with Node turizm (label: Industry)', 'Node Türk Hava Yolları (label: Organization) has relationship COMPAREDTO with Node BIST-100 (label: Index)', 'Node Türk Hava Yolları (label: Organization) has relationship IMPROVES with Node akaryakıt giderleri (label: Expense)', 'Node Türk Hava Yolları (label: Organization) has relationship IMPROVES with Node personel giderleri (label: Expense)', 'Node Türk Hava Yolları (label: Organization) has relationship TARGETPRICE with Node 457,70 TL (label: TargetPrice)', 'Node Türk Hava Yolları (label: Organization) has relationship MANAGES with Node maliyet yönetimi (label: Concept)', 'Node Türk Hava Yolları (label: Organization) has relationship CLOSINGPRICE with Node 285,50 TL (label: Price)', 'Node Türk Hava Yolları (label: Organization) has relationship POTENTIAL with Node 60,32% (label: Potential)', 'Node Türk Hava Yolları (label: Organization) has relationship MARKETVALUE with Node 396.405 mn TL (label: MarketValue)', 'Node Türk Hava Yolları (label: Organization) has relationship PUBLICMARKETVALUE with Node 198.203 mn TL (label: PublicMarketValue)', 'Node Türk Hava Yolları (label: Organization) has relationship CURRENTCAPITAL with Node 1.380.000 bin TL (label: CurrentCapital)', 'Node Türk Hava Yolları (label: Organization) has relationship PUBLICCAPITAL with Node 690.000 bin TL (label: PublicCapital)', 'Node Türk Hava Yolları (label: Organization) has relationship PUBLICRATE with Node 50% (label: PublicRate)', 'Node Türk Hava Yolları (label: Organization) has relationship ACQUIRES with Node uçak alımları (label: Activity)', 'Node Türk Hava Yolları (label: Organization) has relationship MARKETMULTIPLIER with Node 2,16 (label: MarketMultiplier)', 'Node Türk Hava Yolları (label: Organization) has relationship PRICEEARNINGS with Node 0,64 (label: P/E)', 'Node Türk Hava Yolları (label: Organization) has relationship ENTERPRISEVALUENETSALES with Node 0,97 (label: EV/NS)', 'Node Türk Hava Yolları (label: Organization) has relationship INCREASESCAPACITY with Node kapasite artışı (label: Concept)', 'Node Türk Hava Yolları (label: Organization) has relationship OFFERS with Node değer yaratma potansiyeli (label: Concept)', 'Node Türk Hava Yolları (label: Organization) has relationship FORECASTSGROWTHIN with Node 2025 (label: Year)', 'Node 2025 (label: Year) has relationship EXPECTEDDECREASE with Node TÜFE (label: Economic Indicator)', 'Node 2025 (label: Year) has relationship INITIALINFLATIONRATE with Node 15.2% (label: InflationRate)', 'Node 2025 (label: Year) has relationship REVISEDINFLATIONRATE with Node 17.5% (label: InflationRate)', 'Node 2025 (label: Year) has relationship EXPECTEDSTART with Node faiz indirimi süreci (label: EconomicProcess)', 'Node 2025 (label: Year) has relationship LEDBY with Node TCMB (label: Organization)', 'Node 2025 (label: Year) has relationship FORECASTEDEXCHANGERATE with Node USDTRY (label: CurrencyPair)', 'Node 2025 (label: Year) has relationship EXPECTEDYIELD with Node 2 yıllık tahvil (label: FinancialInstrument)', 'Node 2025 (label: Year) has relationship PERFORMANCEINDICATORFOR with Node BİST (label: FinancialIndex)', 'Node 2025 (label: Year) has relationship PREDICTEDIMPACT with Node belirsizlikler (label: Concept)', 'Node 2025 (label: Year) has relationship WILLIMPACT with Node Çin (label: Country)', 'Node 2025 (label: Year) has relationship SIGNIFICANTFOR with Node Küresel Büyüme Görünümü (label: Concept)', 'Node 2025 (label: Year) has relationship GROWTHFORECAST with Node GSYH (label: Economic Indicator)', 'Node 2025 (label: Year) has relationship IMPLEMENTATIONYEARFOR with Node Yapay Zeka (label: Concept)', 'Node 2025 (label: Year) has relationship YEARLYPROJECTION with Node Net İhracat (label: EconomicIndicator)', 'Node 2025 (label: Year) has relationship REQUIRES with Node kararlılık (label: Concept)', 'Node 2025 (label: Year) has relationship FORECASTSINCREASEIN with Node cari işlemler açığı (label: EconomicIndicator)', 'Node 2025 (label: Year) has relationship FORECASTSSLOWDOWNIN with Node ters dolarizasyon eğilimi (label: EconomicTrend)', 'Node 2025 (label: Year) has relationship PLANNEDFOR with Node OVP (label: Organization)', 'Node 2025 (label: Year) has relationship ESTIMATEDDEBTPAYMENT with Node 20 milyar ABD$ (label: DebtAmount)', 'Node 2025 (label: Year) has relationship ESTIMATEDBORROWING with Node 1 1 milyar ABD$ (label: DebtAmount)', 'Node 2025 (label: Year) has relationship FORECAST with Node Kamu Borç Oranı (label: Economic Indicator)', 'Node 2025 (label: Year) has relationship INFLATIONEXPECTATION with Node enflasyon beklentileri (label: EconomicIndicator)', 'Node 2025 (label: Year) has relationship TERMEXPECTATION with Node ortalama vade (label: FinancialMetric)', 'Node 2025 (label: Year) has relationship INCREASESSHARE with Node ASELSAN (label: Organization)', 'Node 2025 (label: Year) has relationship ONAGENDA with Node BİST (label: FinancialMarket)', 'Node 2025 (label: Year) has relationship HASNOCHANGE with Node muhasebesi (label: Concept)', 'Node 2025 (label: Year) has relationship EXPECTATIONS with Node Mevduat faizi (label: FinancialConcept)', 'Node 2025 (label: Year) has relationship EXPECTEDOUTCOME with Node Kar Büyümesi (label: FinancialMetric)', 'Node 2025 (label: Year) has relationship EXPECTEDPROFITABILITY with Node Özkaynak Karlılığı (label: Financial Metric)', 'Node 2025 (label: Year) has relationship EXPECTEDSTABILITY with Node Yolcu Başına Gelir (label: Metric)', 'Node 2025 (label: Year) has relationship DEMANDFORECAST with Node talep (label: Economic Indicator)', 'Node 2025 (label: Year) has relationship PRICINGFORECAST with Node fiyatlama (label: Economic Indicator)', 'Node 2025 (label: Year) has relationship EXPECTEDPRODUCTION with Node 100 bin adet üretim (label: ProductionExpectation)', 'Node 2025 (label: Year) has relationship WILLAFFECT with Node Bankacılık (label: Sector)', 'Node 2025 (label: Year) has relationship FUTUREPROJECTION with Node 2028 (label: Year)', 'Node 2025 (label: Year) has relationship BEGINSTOBALANCE with Node inşaat maliyetleri (label: Concept)', 'Node 2025 (label: Year) has relationship EXPECTEDTOBESTRONG with Node Havayolu Kargo Talebi (label: Concept)', 'Node 2025 (label: Year) has relationship ESTIMATEDCLOSUREIMPACT with Node 1 milyon varil (label: ProductionVolume)', 'Node 2025 (label: Year) has relationship BUDGETEDFOR with Node mal ve teçhizat tedariki (label: Procurement)', 'Node 2025 (label: Year) has relationship INFOCUS with Node telekom sektörü (label: Industry)', 'Node 2025 (label: Year) has relationship FORECASTS with Node Model Portföy (label: Portfolio)', 'Node 2025 (label: Year) has relationship FORECASTS with Node Enflasyon Oranı (label: Economic Indicator)', 'Node 2025 (label: Year) has relationship FORECASTS with Node TCMB (label: Organization)', 'Node 2025 (label: Year) has relationship FORECASTS with Node TÜFE (label: EconomicIndicator)', 'Node 2025 (label: Year) has relationship FORECASTS with Node 2025 yıl sonu politika faizi (label: Economic Indicator)', 'Node 2025 (label: Year) has relationship FORECASTS with Node TÜFE (label: Concept)', 'Node 2025 (label: Year) has relationship FORECASTS with Node Büyüme Oranı (label: Concept)', 'Node 2025 (label: Year) has relationship FORECASTS with Node Yılsonu (label: Concept)', 'Node 2025 (label: Year) has relationship FORECASTS with Node otomotiv (label: Sector)', 'Node 2025 (label: Year) has relationship FORECASTS with Node Çekirdek faiz gelirleri (label: FinancialMetric)', 'Node 2025 (label: Year) has relationship FORECASTS with Node otomotiv endüstrisi (label: Industry)', 'Node 2025 (label: Year) has relationship INCLUDES with Node Küresel Piyasalar (label: Market)', 'Node 2025 (label: Year) has relationship INCLUDES with Node Strateji (label: Strategy)', 'Node 2025 (label: Year) has relationship INCLUDES with Node Türkiye Ekonomisi (label: Economy)', 'Node 2025 (label: Year) has relationship INCLUDES with Node Model Portföy Önerileri (label: Portfolio Recommendation)', 'Node 2025 (label: Year) has relationship INCLUDES with Node Mart (label: Month)', 'Node 2025 (label: Year) has relationship INCLUDES with Node PPK toplantıları (label: Event)', 'Node 2025 (label: Year) has relationship INFLUENCES with Node jeopolitik riskler (label: Concept)', 'Node 2025 (label: Year) has relationship INFLUENCES with Node Sıkı Para Politikaları (label: EconomicPolicy)', 'Node 2025 (label: Year) has relationship INFLUENCES with Node Maliye Tedbirleri (label: EconomicMeasure)', 'Node 2025 (label: Year) has relationship INFLUENCES with Node İç Talep (label: Economic Concept)', 'Node 2025 (label: Year) has relationship IMPACTS with Node Avrupa (label: Region)', 'Node 2025 (label: Year) has relationship IMPACTS with Node finansmana erişim (label: Concept)', 'Node 2025 (label: Year) has relationship IMPACTS with Node Yurtiçi (label: Region)', 'Node 2025 (label: Year) has relationship FORECASTPERCENTAGE2025 with Node GDP (label: EconomicIndicator)', 'Node 2025 (label: Year) has relationship RELATEDTO with Node enflasyon (label: Economic Indicator)', 'Node 2025 (label: Year) has relationship RELATEDTO with Node TÜFE (label: Index)', 'Node 2025 (label: Year) has relationship FORECASTFOR with Node Küresel Piyasalar (label: Concept)', 'Node 2025 (label: Year) has relationship FORECASTFOR with Node petrol ürünleri piyasası (label: Market)', 'Node 2025 (label: Year) has relationship FORECASTSINCREASE with Node cari işlemler açığı (label: EconomicIndicator)', 'Node 2025 (label: Year) has relationship FORECASTYEAR with Node tahvil faizi (label: FinancialInstrument)', 'Node 2025 (label: Year) has relationship FORECASTYEAR with Node Türkiye otomotiv endüstrisi (label: Industry)', 'Node 2025 (label: Year) has relationship PREDICTEDTOBESTRONGIN with Node Bankacılık (label: Sector)', 'Node 2025 (label: Year) has relationship PREDICTEDTOBESTRONGIN with Node Havacılık (label: Sector)', 'Node 2025 (label: Year) has relationship PREDICTEDTOBESTRONGIN with Node Savunma (label: Sector)', 'Node 2025 (label: Year) has relationship PREDICTEDTOBESTRONGIN with Node Teknoloji (label: Sector)', 'Node 2025 (label: Year) has relationship PREDICTEDTOBESTRONGIN with Node Finans (label: Sector)', 'Node 2025 (label: Year) has relationship FORECASTEDREDUCTION with Node baz puan (label: FinancialTerm)', 'Node 2025 (label: Year) has relationship EXPECTEDACTION with Node indirim (label: FinancialAction)', 'Node 2025 (label: Year) has relationship INTERESTRATEFORECASTREVISED with Node Dot Plot (label: Economic Indicator)', 'Node 2025 (label: Year) has relationship INTERESTRATEFORECAST with Node TCMB (label: Organization)', 'Node 2025 (label: Year) has relationship EXPECTEDPRICE with Node 3000 dolar (label: CurrencyValue)', 'Node 2025 (label: Year) has relationship FOLLOWS with Node 2024 (label: Year)', 'Node 2025 (label: Year) has relationship FOLLOWS with Node 2026 (label: Year)', 'Node 2025 (label: Year) has relationship PROJECTEDVALUE with Node iç borç çevirme oranı (label: FinancialMetric)', 'Node 2025 (label: Year) has relationship PROJECTEDVALUE with Node iç borç servisi (label: FinancialMetric)', 'Node 2025 (label: Year) has relationship PROJECTEDVALUE with Node 105$ (label: Financial Metric Value)', 'Node 2025 (label: Year) has relationship TARGETS with Node büyüme (label: Concept)', 'Node 2025 (label: Year) has relationship TARGETS with Node dezenflasyon süreci (label: Concept)', 'Node 2025 (label: Year) has relationship DETERMINES with Node dezenflasyon süreci (label: EconomicConcept)', 'Node 2025 (label: Year) has relationship DETERMINES with Node faiz indirim döngüsü (label: EconomicConcept)', 'Node 2025 (label: Year) has relationship EXPECTEDTOSUPPORT with Node Faiz İndirimi Döngüsü (label: EconomicPolicy)', 'Node 2025 (label: Year) has relationship SUPPORTS with Node Faiz İndirimi Döngüsü (label: Economic Policy)', 'Node 2025 (label: Year) has relationship SUPPORTS with Node Maliye Politikaları (label: Economic Policy)', 'Node 2025 (label: Year) has relationship EXPECTEDINCREASE with Node Yolcu Sayısı (label: Metric)', 'Node 2025 (label: Year) has relationship EXPECTEDINCREASE with Node zorluklar (label: Concept)', 'Node 2025 (label: Year) has relationship VOLATILITYPREDICTION with Node Altın (label: Commodity)', 'Node 2025 (label: Year) has relationship VOLATILITYPREDICTION with Node Gümüş (label: Commodity)', 'Node 2025 (label: Year) has relationship REFERSTO with Node Dayanıklı Tüketim (label: Sector)', 'Node 2025 (label: Year) has relationship INITIALEXPECTATION with Node %14 (label: Percentage)', 'Node 2025 (label: Year) has relationship REVISEDEXPECTATIONENDOFYEAR with Node %21 (label: Percentage)', 'Node 2025 (label: Year) has relationship FORECASTSINFLATION with Node %14 (label: Percentage)', 'Node 2025 (label: Year) has relationship REVISEDFORECASTSINFLATION with Node %21 (label: Percentage)', 'Node 2025 (label: Year) has relationship PROJECTEDFORYEAR with Node bütçe açığı (label: Economic Indicator)', 'Node 2025 (label: Year) has relationship NEWREFINERYOPENINGS with Node Çin (label: Country)', 'Node 2025 (label: Year) has relationship NEWREFINERYOPENINGS with Node Hindistan (label: Country)', 'Node 2025 (label: Year) has relationship NEWREFINERYOPENINGS with Node Endonezya (label: Country)', 'Node 2025 (label: Year) has relationship GROWTHESTIMATE with Node Büyüme (label: Economic Indicator)', 'Node 2025 (label: Year) has relationship FORECASTEDBUDGET with Node merkezi bütçe (label: Concept)', 'Node 2025 (label: Year) has relationship FORECASTEDVALUE with Node 2.7% (label: Percentage)', 'Node 2025 (label: Year) has relationship FORECASTEDVALUE with Node Yıllık Enflasyon (label: Concept)', 'Node 2025 (label: Date) has relationship INCLUDES with Node Ocak (label: Month)', 'Node 2025 (label: Date) has relationship INCLUDES with Node Mart (label: Month)', 'Node 2025 (label: Date) has relationship INCLUDES with Node Mayıs (label: Month)', 'Node 2025 (label: Date) has relationship INCLUDES with Node Haziran (label: Month)', 'Node 2025 (label: Date) has relationship INCLUDES with Node Temmuz (label: Month)', 'Node 2025 (label: Date) has relationship INCLUDES with Node Eylül (label: Month)', 'Node 2025 (label: Date) has relationship INCLUDES with Node Kasım (label: Month)', 'Node 2025 (label: Date) has relationship INCLUDES with Node Aralık (label: Month)', 'Node 2025 (label: Date) has relationship DEVELOPEDIN with Node şahin söylem (label: Concept)', 'Node 2025 (label: Date) has relationship POZITIF_YANSIMA with Node Bankalar (label: Organization)', 'Node 2025 (label: Date) has relationship DEVAM_EDEN with Node YZ Entegrasyonu (label: Technology)', 'Node 2025 (label: Date) has relationship EXPECTSFOREIGNINVESTMENTIN with Node TL tahvil (label: FinancialInstrument)', 'Node 2025 (label: Date) has relationship EXPECTEDCHANGE with Node mevduat faizleri (label: FinancialInstrument)']\n"
     ]
    }
   ],
   "source": [
    "kg_result = []\n",
    "for node in ans_element.nodes:\n",
    "    n4j_query = f\"\"\"\n",
    "MATCH (n {{id: '{node.id}'}})-[r]->(m)\n",
    "RETURN 'Node ' + n.id + ' (label: ' + labels(n)[0] + ') has relationship ' + type(r) + ' with Node ' + m.id + ' (label: ' + labels(m)[0] + ')' AS Description\n",
    "UNION\n",
    "MATCH (n)<-[r]-(m {{id: '{node.id}'}})\n",
    "RETURN 'Node ' + m.id + ' (label: ' + labels(m)[0] + ') has relationship ' + type(r) + ' with Node ' + n.id + ' (label: ' + labels(n)[0] + ')' AS Description\n",
    "\"\"\"\n",
    "    result = n4j.query(query=n4j_query)\n",
    "    kg_result.extend(result)\n",
    "\n",
    "kg_result = [item['Description'] for item in kg_result]\n",
    "print(kg_result)"
   ]
  },
  {
   "cell_type": "code",
   "execution_count": 40,
   "metadata": {},
   "outputs": [],
   "source": [
    "comined_results = str(retrieved_info) + \"\\n\".join(kg_result)"
   ]
  },
  {
   "cell_type": "code",
   "execution_count": null,
   "metadata": {},
   "outputs": [
    {
     "name": "stdout",
     "output_type": "stream",
     "text": [
      "2025 yılında Türk Hava Yolları'nın büyüme bekleniyor. Bağlamda, Türk Hava Yolları'nın turizmde yakaladığı olumlu ivmenin 2025'te devam edeceği ve yolcu sayısının yıllık olarak artacağı belirtiliyor. Bu durum, şirketin büyüme potansiyelini destekleyen bir faktör olarak öne çıkıyor.\n"
     ]
    }
   ],
   "source": [
    "sys_msg = BaseMessage.make_assistant_message(\n",
    "    role_name=\"Yatırım Stratejisti\",\n",
    "    content=\"\"\"Yatırım Stratejisti, yatırım kararlarınızı desteklemek için piyasa beklentileri, finansal veriler ve sektörel trendler hakkında analizler sunar. \n",
    "Orijinal sorgunuz ve ilgili bağlam doğrultusunda, detaylı ve bilgilendirici cevaplar sağlar.\n",
    "        Size orijinal Sorguyu ve Alınan Bağlamı vereceğim,\n",
    "    Alınan Bağlama göre Orijinal Sorguyu cevaplayın.\"\"\"\n",
    ")\n",
    "\n",
    "camel_agent = ChatAgent(system_message=sys_msg,\n",
    "                        model=openai_llm)\n",
    "\n",
    "user_prompt=f\"\"\"\n",
    "Orijinal Sorgu: {query}\n",
    "Bağlam: {comined_results}\n",
    "\"\"\"\n",
    "\n",
    "user_msg = BaseMessage.make_user_message(\n",
    "    role_name=\"User\", content=user_prompt\n",
    ")\n",
    "\n",
    "# Get response\n",
    "agent_response = camel_agent.step(user_msg)\n",
    "\n",
    "print(agent_response.msg.content)"
   ]
  },
  {
   "cell_type": "code",
   "execution_count": null,
   "metadata": {},
   "outputs": [],
   "source": []
  }
 ],
 "metadata": {
  "kernelspec": {
   "display_name": "env",
   "language": "python",
   "name": "python3"
  },
  "language_info": {
   "codemirror_mode": {
    "name": "ipython",
    "version": 3
   },
   "file_extension": ".py",
   "mimetype": "text/x-python",
   "name": "python",
   "nbconvert_exporter": "python",
   "pygments_lexer": "ipython3",
   "version": "3.12.2"
  }
 },
 "nbformat": 4,
 "nbformat_minor": 2
}
